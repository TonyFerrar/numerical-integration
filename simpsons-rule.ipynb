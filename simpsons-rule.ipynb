{
 "cells": [
  {
   "cell_type": "markdown",
   "metadata": {},
   "source": [
    "# Simpson's Rule - Introduction\n",
    "\n",
    "This code calculates the definite integral of a function using numerical methods. It approximates the area under a curve using a user-supplied number of boxes. However, the top of each box is a parabola - enabling each box to more-closely approximate the curvature of the original function.\n",
    "\n",
    "## Simpson's Rule Divides the domain into increments:\n",
    "\n",
    "The domain is divided into equal-width increments using the following expressions:\n",
    "\n",
    "$$x_i = a + i \\times \\Delta x$$\n",
    "\n",
    "$$\\Delta x = \\frac{b-a}{n}$$\n",
    "\n",
    "Keep in mind that this formulation only works for even values of \"n.\"\n",
    "\n",
    "## Simpson's Rule Performs the integration:\n",
    "\n",
    "The following expression performs the numerical integration. Note the pattern followed by the coefficients (1, 4, 2, 4, 2, ..., 2, 4, 1).\n",
    "\n",
    "$$S_n = \\frac{\\Delta x}{3} \\left[ f\\left(x_0\\right) + 4f\\left(x_1\\right) +2f\\left(x_2\\right) +4f\\left(x_3\\right) + ... + 2f\\left(x_{n-2}\\right) + 4f\\left(x_{n-1}\\right) + f\\left(x_n\\right) \\right]$$"
   ]
  },
  {
   "cell_type": "markdown",
   "metadata": {},
   "source": [
    "## Error Bound for Simpson's Rule\n",
    "Suppose that $\\left\\lvert f^{\\left(4 \\right)}\\left(x \\right) \\right\\rvert \\leq K$ for $a \\leq x \\leq b$. If $E_S$ is the error involved in using Simpson's Rule, then\n",
    "\n",
    "$$ \\left\\lvert E_S \\right\\rvert \\leq \\frac{K \\left( b - a \\right)^5}{180 n^4} $$\n",
    "\n",
    "Don't worry, the only thing this code needs you to do is enter the fourth derivative of your function."
   ]
  },
  {
   "cell_type": "markdown",
   "metadata": {},
   "source": [
    "# Part 1: Problem Setup"
   ]
  },
  {
   "cell_type": "markdown",
   "metadata": {},
   "source": [
    "## Import Python Packages\n",
    "\n",
    "Typically, it is best practice to import the various packages you'll be using at the top of your code."
   ]
  },
  {
   "cell_type": "code",
   "execution_count": 119,
   "metadata": {},
   "outputs": [],
   "source": [
    "import math"
   ]
  },
  {
   "cell_type": "markdown",
   "metadata": {},
   "source": [
    "## Parameters\n",
    "(the problem-specific information)"
   ]
  },
  {
   "cell_type": "markdown",
   "metadata": {},
   "source": [
    "### The Function\n",
    "\n",
    "We'll make use of the \"eval\" command to allow the user to enter the equation as a string, which Python can then evaluate as a mathematical expression.\n",
    "\n",
    "- *Keep in mind that the function must be entered using proper Python math syntax.*\n",
    "- you must use \"xi\" as the variable to represent \"x,\" the independent variable in your function.\n",
    "\n",
    "For example, if you're trying to integrate the function \n",
    "$$f\\left( x\\right) = x^2 - 3x + 7$$\n",
    "\n",
    "You should enter \"xi ** 2 - 3 * xi + 7\"\n",
    "\n",
    "#### Enter the function in the cell below, inside the quotes:"
   ]
  },
  {
   "cell_type": "code",
   "execution_count": 120,
   "metadata": {},
   "outputs": [],
   "source": [
    "func = \"(math.cos(xi)) ** 2\""
   ]
  },
  {
   "cell_type": "markdown",
   "metadata": {},
   "source": [
    "#### Here's a test value of your function:\n",
    "\n",
    "(select a value for xi that is in the domain of your function)"
   ]
  },
  {
   "cell_type": "code",
   "execution_count": 121,
   "metadata": {},
   "outputs": [
    {
     "name": "stdout",
     "output_type": "stream",
     "text": [
      "0.6545084971874737\n"
     ]
    }
   ],
   "source": [
    "xi = 0.6283185307179586\n",
    "test_value = eval(func)\n",
    "print(test_value)"
   ]
  },
  {
   "cell_type": "markdown",
   "metadata": {},
   "source": [
    "### The Fourth Derivative\n",
    "\n",
    "Estimating the error of the numerical integration requires the fourth derivative of the function. We'll make use of the \"eval\" command to allow the user to enter the equation as a string, which Python can then evaluate as a mathematical expression.\n",
    "\n",
    "- *Keep in mind that the function must be entered using proper Python math syntax.*\n",
    "- you must use \"xi\" as the variable to represent \"x,\" the independent variable in your function.\n",
    "- if you don't want an error estimate, enter \"0\"\n",
    "- if the fourth derivative is zero, enter \"xi * 0\"."
   ]
  },
  {
   "cell_type": "code",
   "execution_count": 122,
   "metadata": {},
   "outputs": [],
   "source": [
    "f4 = \"8 * math.cos(2*xi)\""
   ]
  },
  {
   "cell_type": "markdown",
   "metadata": {},
   "source": [
    "### The Limits of Integration\n",
    "\n",
    "*The variables are named according to:*\n",
    "\n",
    "$$ \\int_a^b f \\left(x \\right) \\,dx $$\n",
    "\n",
    "#### Enter the limits of integration below:"
   ]
  },
  {
   "cell_type": "code",
   "execution_count": 123,
   "metadata": {},
   "outputs": [],
   "source": [
    "# Lower Limit\n",
    "a = 0\n",
    "# Upper Limit\n",
    "b = 2*math.pi"
   ]
  },
  {
   "cell_type": "markdown",
   "metadata": {},
   "source": [
    "### Number of Increments\n",
    "\n",
    "Numerical integration relies on dividing the domain into increments. Typically, the more increments the greater the accuracy of the result. However, adding increments increases the computational cost of the method - we must balance speed and accuracy to achieve the result we're looking for.\n",
    "\n",
    "#### Enter the number of increments below:"
   ]
  },
  {
   "cell_type": "code",
   "execution_count": 124,
   "metadata": {},
   "outputs": [],
   "source": [
    "# Number of Increments\n",
    "n = 102"
   ]
  },
  {
   "cell_type": "markdown",
   "metadata": {},
   "source": [
    "## Problem Summary:"
   ]
  },
  {
   "cell_type": "code",
   "execution_count": 125,
   "metadata": {},
   "outputs": [
    {
     "name": "stdout",
     "output_type": "stream",
     "text": [
      "Let's take the integral of (math.cos(xi)) ** 2 from 0 to 6.283185307179586 using 102 increments!\n"
     ]
    }
   ],
   "source": [
    "print(f\"Let's take the integral of {func} from {a} to {b} using {n} increments!\")"
   ]
  },
  {
   "cell_type": "markdown",
   "metadata": {},
   "source": [
    "# Part 2: Compute Integral\n",
    "\n",
    "## Initilization\n",
    "The first part of calculating a solution is populating the various variables we'll need. This involves some calculations, and also creating empty lists of proper size to hold the invidual values.\n",
    "\n",
    " - 'deltaX' is a single-valued float that we need to calculate\n",
    " - 'x' is a list of all $x$ values we'll evaluate the function at, determined using $a + i \\Delta x$\n",
    " - 'ci' is the coefficient list - Simpson's Rule uses coefficients to weight the value of each point at which the function is evaluated following the pattern: $\\left(1, 4, 2, 4, ... 2, 4, 1 \\right)$\n",
    " - 'fx' is a list of $0$'s which will hold the function output at each value of $x$\n",
    "\n",
    "### Calculate $\\Delta x$"
   ]
  },
  {
   "cell_type": "code",
   "execution_count": 126,
   "metadata": {},
   "outputs": [
    {
     "name": "stdout",
     "output_type": "stream",
     "text": [
      "deltaX is 0.06159985595274104\n"
     ]
    }
   ],
   "source": [
    "deltaX = (b-a)/n\n",
    "print(f\"deltaX is {deltaX}\")"
   ]
  },
  {
   "cell_type": "markdown",
   "metadata": {},
   "source": [
    "### Initialize $x$ using 'range' and 'list comprehensions'\n",
    "\n",
    " - First, we'll use \"range\" to create a list of integers from $0$ to $n+1$. These are the $i$ values.\n",
    " - Then we multiply the $i$ values by $\\Delta x$.\n",
    "     - We can do this in a single line using a 'List Comprehension'\n",
    "     - It is like a 'for' loop in a single line:\n",
    "         - [deltaX * item for item in range(n+1)] takes each item in the 'range' and multiplies it by 'deltaX'\n",
    "     - Now we have a list filled with $i \\times \\Delta x$.\n",
    " - Lastly, we add $a$ to each item, because we want to start at the lower limit of integration\n",
    "     - Now we have a list filled with each value of $a + i \\times \\Delta x$."
   ]
  },
  {
   "cell_type": "code",
   "execution_count": 127,
   "metadata": {},
   "outputs": [
    {
     "name": "stdout",
     "output_type": "stream",
     "text": [
      "x looks like [0.0, 0.06159985595274104, 0.12319971190548208, 0.18479956785822313, 0.24639942381096416, 0.3079992797637052, 0.36959913571644626, 0.4311989916691873, 0.4927988476219283, 0.5543987035746694, 0.6159985595274104, 0.6775984154801514, 0.7391982714328925, 0.8007981273856335, 0.8623979833383746, 0.9239978392911156, 0.9855976952438567, 1.0471975511965976, 1.1087974071493387, 1.1703972631020798, 1.231997119054821, 1.2935969750075618, 1.3551968309603029, 1.416796686913044, 1.478396542865785, 1.5399963988185261, 1.601596254771267, 1.663196110724008, 1.7247959666767492, 1.7863958226294903, 1.8479956785822311, 1.9095955345349722, 1.9711953904877133, 2.0327952464404544, 2.0943951023931953, 2.1559949583459366, 2.2175948142986774, 2.2791946702514183, 2.3407945262041596, 2.4023943821569005, 2.463994238109642, 2.5255940940623827, 2.5871939500151235, 2.648793805967865, 2.7103936619206057, 2.771993517873347, 2.833593373826088, 2.8951932297788288, 2.95679308573157, 3.018392941684311, 3.0799927976370522, 3.141592653589793, 3.203192509542534, 3.2647923654952753, 3.326392221448016, 3.387992077400757, 3.4495919333534983, 3.511191789306239, 3.5727916452589805, 3.6343915012117214, 3.6959913571644623, 3.7575912131172036, 3.8191910690699444, 3.8807909250226857, 3.9423907809754266, 4.003990636928168, 4.065590492880909, 4.12719034883365, 4.1887902047863905, 4.250390060739131, 4.311989916691873, 4.373589772644614, 4.435189628597355, 4.496789484550096, 4.558389340502837, 4.619989196455578, 4.681589052408319, 4.74318890836106, 4.804788764313801, 4.866388620266542, 4.927988476219284, 4.9895883321720245, 5.051188188124765, 5.112788044077506, 5.174387900030247, 5.235987755982989, 5.29758761193573, 5.359187467888471, 5.420787323841211, 5.482387179793952, 5.543987035746694, 5.605586891699435, 5.667186747652176, 5.728786603604917, 5.7903864595576575, 5.851986315510399, 5.91358617146314, 5.975186027415881, 6.036785883368622, 6.098385739321363, 6.1599855952741045, 6.221585451226845, 6.283185307179586]\n",
      "['0.00', '0.06', '0.12', '0.18', '0.25', '0.31', '0.37', '0.43', '0.49', '0.55', '0.62', '0.68', '0.74', '0.80', '0.86', '0.92', '0.99', '1.05', '1.11', '1.17', '1.23', '1.29', '1.36', '1.42', '1.48', '1.54', '1.60', '1.66', '1.72', '1.79', '1.85', '1.91', '1.97', '2.03', '2.09', '2.16', '2.22', '2.28', '2.34', '2.40', '2.46', '2.53', '2.59', '2.65', '2.71', '2.77', '2.83', '2.90', '2.96', '3.02', '3.08', '3.14', '3.20', '3.26', '3.33', '3.39', '3.45', '3.51', '3.57', '3.63', '3.70', '3.76', '3.82', '3.88', '3.94', '4.00', '4.07', '4.13', '4.19', '4.25', '4.31', '4.37', '4.44', '4.50', '4.56', '4.62', '4.68', '4.74', '4.80', '4.87', '4.93', '4.99', '5.05', '5.11', '5.17', '5.24', '5.30', '5.36', '5.42', '5.48', '5.54', '5.61', '5.67', '5.73', '5.79', '5.85', '5.91', '5.98', '6.04', '6.10', '6.16', '6.22', '6.28']\n"
     ]
    }
   ],
   "source": [
    "x = [a + deltaX * item for item in range(n+1)]\n",
    "print(f'x looks like {x}')\n",
    "print([\"{0:0.2f}\".format(i) for i in x])"
   ]
  },
  {
   "cell_type": "markdown",
   "metadata": {},
   "source": [
    "### Initialize the Coefficient List using 'Slicing'\n",
    "This numerical integration method uses coefficients to give weight to the values. Ultimately this is part of what makes the method use parabolas instead of straight lines to approximate the top of each box.\n",
    "\n",
    "$$c_i = \\left(1,4,2,4,2,...,2,4,1\\right)$$\n",
    "\n",
    "Build the list by combining 3 lists:\n",
    "- [1] + [middle] + [4,1]\n",
    "- [1] is the first element\n",
    "- [middle] can be built using list multiplication:\n",
    "    - [4,2] * 3 = [4,2,4,2,4,2]\n",
    "    - We need the number of elements in the middle of the list\n",
    "    - Remember the true number of elements in the list is n + 1.\n",
    "        - If n = 12, there are 13 elements\n",
    "    - round((n-2)/2) takes the number of elements in the middle of the list and divides by 2. This is how many [4,2] pairs we need.\n",
    "        - If n = 12, (n-2)/2 = (12 - 2)/2 = 5.\n",
    "        - Round is there to cast the output of division as an integer.\n",
    "    - [middle] = [4,2] * round((n-2)/2)\n",
    "- [4, 1] at the end adds the last 2 elements\n",
    "\n"
   ]
  },
  {
   "cell_type": "code",
   "execution_count": 128,
   "metadata": {},
   "outputs": [
    {
     "name": "stdout",
     "output_type": "stream",
     "text": [
      "ci looks like [1, 4, 2, 4, 2, 4, 2, 4, 2, 4, 2, 4, 2, 4, 2, 4, 2, 4, 2, 4, 2, 4, 2, 4, 2, 4, 2, 4, 2, 4, 2, 4, 2, 4, 2, 4, 2, 4, 2, 4, 2, 4, 2, 4, 2, 4, 2, 4, 2, 4, 2, 4, 2, 4, 2, 4, 2, 4, 2, 4, 2, 4, 2, 4, 2, 4, 2, 4, 2, 4, 2, 4, 2, 4, 2, 4, 2, 4, 2, 4, 2, 4, 2, 4, 2, 4, 2, 4, 2, 4, 2, 4, 2, 4, 2, 4, 2, 4, 2, 4, 2, 4, 1]\n"
     ]
    }
   ],
   "source": [
    "ci = [1] + [4,2] * round((n-2)/2) + [4,1]\n",
    "print(f\"ci looks like {ci}\")"
   ]
  },
  {
   "cell_type": "markdown",
   "metadata": {},
   "source": [
    "### Initialize $f\\left( x_i \\right)$ as a list of $0$'s\n",
    "We need to initialize a list to store function output at each value of $x$ so we can loop through and compute values later."
   ]
  },
  {
   "cell_type": "code",
   "execution_count": 129,
   "metadata": {},
   "outputs": [
    {
     "name": "stdout",
     "output_type": "stream",
     "text": [
      "f(x) looks like [0, 0, 0, 0, 0, 0, 0, 0, 0, 0, 0, 0, 0, 0, 0, 0, 0, 0, 0, 0, 0, 0, 0, 0, 0, 0, 0, 0, 0, 0, 0, 0, 0, 0, 0, 0, 0, 0, 0, 0, 0, 0, 0, 0, 0, 0, 0, 0, 0, 0, 0, 0, 0, 0, 0, 0, 0, 0, 0, 0, 0, 0, 0, 0, 0, 0, 0, 0, 0, 0, 0, 0, 0, 0, 0, 0, 0, 0, 0, 0, 0, 0, 0, 0, 0, 0, 0, 0, 0, 0, 0, 0, 0, 0, 0, 0, 0, 0, 0, 0, 0, 0, 0]\n"
     ]
    }
   ],
   "source": [
    "fx = [0] * (n+1)\n",
    "print(f\"f(x) looks like {fx}\")"
   ]
  },
  {
   "cell_type": "markdown",
   "metadata": {},
   "source": [
    "## Integration\n",
    "Now that the variables are initialized, we can evaluate the integral!\n",
    "\n",
    "### Evaluate $f\\left( x_i \\right)$ using 'List Comprehension'\n",
    "The first step of evaluating the integral is to evaluate the function at each value of $x$."
   ]
  },
  {
   "cell_type": "code",
   "execution_count": 130,
   "metadata": {},
   "outputs": [
    {
     "name": "stdout",
     "output_type": "stream",
     "text": [
      "f(x) looks like [1.0, 0.9962102548359679, 0.9848984680175047, 0.966236114702178, 0.9405060971428923, 0.9080984561781109, 0.8695044586103295, 0.8253091501021209, 0.7761824864802529, 0.7228691778882692, 0.6661773997398299, 0.6069665416032488, 0.5461341797316509, 0.48460247072191487, 0.4233041725606574, 0.36316850496395875, 0.30510706335366045, 0.2500000000000001, 0.19868268181037185, 0.1519330270185367, 0.11045971273716476, 0.074891432135193, 0.0457673640902382, 0.023528999786421735, 0.008513450158049113, 0.0009483356314779594, 0.0009483356314779517, 0.008513450158049092, 0.0235289997864217, 0.04576736409023815, 0.07489143213519282, 0.11045971273716468, 0.15193302701853661, 0.1986826818103718, 0.24999999999999978, 0.3051070633536603, 0.36316850496395847, 0.42330417256065694, 0.48460247072191476, 0.5461341797316508, 0.6069665416032488, 0.6661773997398297, 0.7228691778882689, 0.7761824864802529, 0.8253091501021209, 0.8695044586103295, 0.9080984561781107, 0.9405060971428921, 0.966236114702178, 0.9848984680175047, 0.9962102548359679, 1.0, 0.9962102548359679, 0.9848984680175047, 0.966236114702178, 0.9405060971428925, 0.9080984561781109, 0.8695044586103298, 0.8253091501021209, 0.776182486480253, 0.7228691778882694, 0.6661773997398299, 0.6069665416032489, 0.5461341797316509, 0.48460247072191504, 0.4233041725606572, 0.36316850496395875, 0.30510706335366067, 0.25000000000000044, 0.1986826818103723, 0.15193302701853661, 0.11045971273716483, 0.07489143213519306, 0.045767364090238356, 0.023528999786421916, 0.008513450158049093, 0.0009483356314779668, 0.0009483356314779442, 0.008513450158049031, 0.02352899978642153, 0.04576736409023819, 0.07489143213519288, 0.11045971273716461, 0.1519330270185364, 0.19868268181037135, 0.25, 0.30510706335366017, 0.3631685049639583, 0.4233041725606568, 0.48460247072191415, 0.5461341797316509, 0.6069665416032486, 0.6661773997398297, 0.7228691778882689, 0.7761824864802525, 0.8253091501021211, 0.8695044586103295, 0.9080984561781107, 0.9405060971428921, 0.9662361147021777, 0.9848984680175047, 0.9962102548359679, 1.0]\n",
      "['1.00', '1.00', '0.98', '0.97', '0.94', '0.91', '0.87', '0.83', '0.78', '0.72', '0.67', '0.61', '0.55', '0.48', '0.42', '0.36', '0.31', '0.25', '0.20', '0.15', '0.11', '0.07', '0.05', '0.02', '0.01', '0.00', '0.00', '0.01', '0.02', '0.05', '0.07', '0.11', '0.15', '0.20', '0.25', '0.31', '0.36', '0.42', '0.48', '0.55', '0.61', '0.67', '0.72', '0.78', '0.83', '0.87', '0.91', '0.94', '0.97', '0.98', '1.00', '1.00', '1.00', '0.98', '0.97', '0.94', '0.91', '0.87', '0.83', '0.78', '0.72', '0.67', '0.61', '0.55', '0.48', '0.42', '0.36', '0.31', '0.25', '0.20', '0.15', '0.11', '0.07', '0.05', '0.02', '0.01', '0.00', '0.00', '0.01', '0.02', '0.05', '0.07', '0.11', '0.15', '0.20', '0.25', '0.31', '0.36', '0.42', '0.48', '0.55', '0.61', '0.67', '0.72', '0.78', '0.83', '0.87', '0.91', '0.94', '0.97', '0.98', '1.00', '1.00']\n"
     ]
    }
   ],
   "source": [
    "fx = [eval(func) for xi in x]\n",
    "print(f\"f(x) looks like {fx}\")\n",
    "print([\"{0:0.2f}\".format(i) for i in fx])"
   ]
  },
  {
   "cell_type": "markdown",
   "metadata": {},
   "source": [
    "### Multiply by the coefficients for Simpson's Rule using 'List Comprehension'\n",
    "Next, we multiply each of the values of $f\\left( x \\right)$ by the appropriate coefficient from Simpson's Rule"
   ]
  },
  {
   "cell_type": "code",
   "execution_count": 131,
   "metadata": {},
   "outputs": [
    {
     "name": "stdout",
     "output_type": "stream",
     "text": [
      "Si looks like [1.0, 3.9848410193438717, 1.9697969360350094, 3.864944458808712, 1.8810121942857847, 3.6323938247124437, 1.739008917220659, 3.3012366004084837, 1.5523649729605058, 2.891476711553077, 1.3323547994796598, 2.4278661664129952, 1.0922683594633018, 1.9384098828876595, 0.8466083451213148, 1.452674019855835, 0.6102141267073209, 1.0000000000000004, 0.3973653636207437, 0.6077321080741468, 0.22091942547432952, 0.299565728540772, 0.0915347281804764, 0.09411599914568694, 0.017026900316098225, 0.0037933425259118374, 0.0018966712629559033, 0.03405380063219637, 0.0470579995728434, 0.1830694563609526, 0.14978286427038565, 0.4418388509486587, 0.30386605403707323, 0.7947307272414872, 0.49999999999999956, 1.2204282534146411, 0.7263370099279169, 1.6932166902426278, 0.9692049414438295, 2.184536718926603, 1.2139330832064976, 2.664709598959319, 1.4457383557765378, 3.1047299459210116, 1.6506183002042418, 3.478017834441318, 1.8161969123562214, 3.7620243885715685, 1.932472229404356, 3.9395938720700188, 1.9924205096719358, 4.0, 1.9924205096719358, 3.9395938720700188, 1.932472229404356, 3.76202438857157, 1.8161969123562218, 3.478017834441319, 1.6506183002042418, 3.104729945921012, 1.4457383557765389, 2.6647095989593197, 1.2139330832064978, 2.1845367189266036, 0.9692049414438301, 1.6932166902426289, 0.7263370099279175, 1.2204282534146427, 0.5000000000000009, 0.7947307272414892, 0.30386605403707323, 0.4418388509486593, 0.14978286427038612, 0.18306945636095343, 0.04705799957284383, 0.034053800632196374, 0.0018966712629559337, 0.0037933425259117767, 0.017026900316098062, 0.09411599914568612, 0.09153472818047638, 0.2995657285407715, 0.22091942547432922, 0.6077321080741456, 0.3973653636207427, 1.0, 0.6102141267073203, 1.4526740198558332, 0.8466083451213136, 1.9384098828876566, 1.0922683594633018, 2.4278661664129944, 1.3323547994796594, 2.8914767115530755, 1.552364972960505, 3.3012366004084845, 1.739008917220659, 3.6323938247124428, 1.8810121942857843, 3.864944458808711, 1.9697969360350094, 3.9848410193438717, 1.0]\n",
      "['1.00', '3.98', '1.97', '3.86', '1.88', '3.63', '1.74', '3.30', '1.55', '2.89', '1.33', '2.43', '1.09', '1.94', '0.85', '1.45', '0.61', '1.00', '0.40', '0.61', '0.22', '0.30', '0.09', '0.09', '0.02', '0.00', '0.00', '0.03', '0.05', '0.18', '0.15', '0.44', '0.30', '0.79', '0.50', '1.22', '0.73', '1.69', '0.97', '2.18', '1.21', '2.66', '1.45', '3.10', '1.65', '3.48', '1.82', '3.76', '1.93', '3.94', '1.99', '4.00', '1.99', '3.94', '1.93', '3.76', '1.82', '3.48', '1.65', '3.10', '1.45', '2.66', '1.21', '2.18', '0.97', '1.69', '0.73', '1.22', '0.50', '0.79', '0.30', '0.44', '0.15', '0.18', '0.05', '0.03', '0.00', '0.00', '0.02', '0.09', '0.09', '0.30', '0.22', '0.61', '0.40', '1.00', '0.61', '1.45', '0.85', '1.94', '1.09', '2.43', '1.33', '2.89', '1.55', '3.30', '1.74', '3.63', '1.88', '3.86', '1.97', '3.98', '1.00']\n"
     ]
    }
   ],
   "source": [
    "Si = [ci[i] * fx[i] for i in range(len(fx))]\n",
    "print(f\"Si looks like {Si}\")\n",
    "print([\"{0:0.2f}\".format(i) for i in Si])"
   ]
  },
  {
   "cell_type": "markdown",
   "metadata": {},
   "source": [
    "### Add up the individual values and multiply by $\\frac{\\Delta x}{3}$ using the 'sum' function\n",
    "\n",
    "$$S_n = \\frac{\\Delta x}{3} \\left[ f\\left(x_0\\right) + 4f\\left(x_1\\right) +2f\\left(x_2\\right) +4f\\left(x_3\\right) + ... + 2f\\left(x_{n-2}\\right) + 4f\\left(x_{n-1}\\right) + f\\left(x_n\\right) \\right]$$"
   ]
  },
  {
   "cell_type": "code",
   "execution_count": 132,
   "metadata": {},
   "outputs": [
    {
     "name": "stdout",
     "output_type": "stream",
     "text": [
      "The integral of (math.cos(xi)) ** 2 from 0 to 6.283185307179586 is 3.141592653589792\n"
     ]
    }
   ],
   "source": [
    "S = sum(Si)*(deltaX/3)\n",
    "print(f\"The integral of {func} from {a} to {b} is {S}\")"
   ]
  },
  {
   "cell_type": "markdown",
   "metadata": {},
   "source": [
    "## Error Estimate\n",
    "Now that we've evaluated the integral, we can estimate the accuracy of our estimate.\n",
    "\n",
    "### Evaluate $f^{\\left( 4 \\right)}\\left( x_i \\right)$ using 'List Comprehension'\n",
    "The first step of estimating the error is to evaluate the fourth derivative at each value of $x$."
   ]
  },
  {
   "cell_type": "code",
   "execution_count": 133,
   "metadata": {},
   "outputs": [
    {
     "name": "stdout",
     "output_type": "stream",
     "text": [
      "Let's evaluate 8 * math.cos(2*xi) at each value of x.\n",
      "f''''(x) looks like [8.0, 7.939364077375486, 7.758375488280076, 7.4597778352348465, 7.048097554286276, 6.529575298849774, 5.912071337765273, 5.204946401633937, 4.418919783684047, 3.5659068462123065, 2.658838395837277, 1.7114646656519803, 0.738146875706416, -0.24636046844936163, -1.2271332390294825, -2.1893039205766613, -3.118286986341434, -3.9999999999999982, -4.82107709103405, -5.569071567703412, -6.232644596205364, -6.801737085836912, -7.267722174556189, -7.623536003417252, -7.863784797471214, -7.984826629896353, -7.984826629896353, -7.863784797471214, -7.623536003417253, -7.267722174556189, -6.801737085836915, -6.232644596205365, -5.569071567703414, -4.821077091034052, -4.0000000000000036, -3.118286986341434, -2.189303920576665, -1.227133239029488, -0.2463604684493636, 0.7381468757064125, 1.71146466565198, 2.658838395837275, 3.565906846212302, 4.4189197836840455, 5.204946401633934, 5.912071337765273, 6.529575298849773, 7.048097554286274, 7.4597778352348465, 7.758375488280075, 7.939364077375486, 8.0, 7.939364077375487, 7.758375488280076, 7.459777835234847, 7.0480975542862785, 6.529575298849775, 5.912071337765276, 5.204946401633937, 4.418919783684049, 3.565906846212312, 2.658838395837279, 1.711464665651984, 0.7381468757064162, -0.2463604684493597, -1.227133239029484, -2.189303920576661, -3.1182869863414306, -3.9999999999999933, -4.821077091034043, -5.569071567703413, -6.232644596205363, -6.801737085836911, -7.267722174556186, -7.623536003417249, -7.863784797471214, -7.984826629896353, -7.984826629896353, -7.863784797471215, -7.6235360034172555, -7.267722174556189, -6.801737085836914, -6.232644596205366, -5.569071567703418, -4.821077091034059, -3.9999999999999987, -3.1182869863414364, -2.189303920576667, -1.2271332390294898, -0.24636046844937268, 0.7381468757064175, 1.7114646656519783, 2.6588383958372734, 3.5659068462123, 4.418919783684038, 5.204946401633938, 5.912071337765273, 6.529575298849771, 7.048097554286272, 7.459777835234843, 7.758375488280076, 7.939364077375486, 8.0]\n",
      "['8.00', '7.94', '7.76', '7.46', '7.05', '6.53', '5.91', '5.20', '4.42', '3.57', '2.66', '1.71', '0.74', '-0.25', '-1.23', '-2.19', '-3.12', '-4.00', '-4.82', '-5.57', '-6.23', '-6.80', '-7.27', '-7.62', '-7.86', '-7.98', '-7.98', '-7.86', '-7.62', '-7.27', '-6.80', '-6.23', '-5.57', '-4.82', '-4.00', '-3.12', '-2.19', '-1.23', '-0.25', '0.74', '1.71', '2.66', '3.57', '4.42', '5.20', '5.91', '6.53', '7.05', '7.46', '7.76', '7.94', '8.00', '7.94', '7.76', '7.46', '7.05', '6.53', '5.91', '5.20', '4.42', '3.57', '2.66', '1.71', '0.74', '-0.25', '-1.23', '-2.19', '-3.12', '-4.00', '-4.82', '-5.57', '-6.23', '-6.80', '-7.27', '-7.62', '-7.86', '-7.98', '-7.98', '-7.86', '-7.62', '-7.27', '-6.80', '-6.23', '-5.57', '-4.82', '-4.00', '-3.12', '-2.19', '-1.23', '-0.25', '0.74', '1.71', '2.66', '3.57', '4.42', '5.20', '5.91', '6.53', '7.05', '7.46', '7.76', '7.94', '8.00']\n"
     ]
    }
   ],
   "source": [
    "print(f\"Let's evaluate {f4} at each value of x.\")\n",
    "f4x = [eval(f4) for xi in x]\n",
    "print(f\"f''''(x) looks like {f4x}\")\n",
    "print([\"{0:0.2f}\".format(i) for i in f4x])"
   ]
  },
  {
   "cell_type": "markdown",
   "metadata": {},
   "source": [
    "### Find $K$ the maximum absolute value of $f^{\\left( 4 \\right)}\\left( x_i \\right)$\n",
    "\n",
    "We need  $\\left\\lvert f^{\\left(4 \\right)}\\left(x \\right) \\right\\rvert \\leq K$ for $a \\leq x \\leq b$\n",
    "\n",
    "- List comprehension applies abs() to all items in f4x\n",
    "- Max returns the largest value\n",
    "- The largest value is 'K' in the error estimate formula"
   ]
  },
  {
   "cell_type": "code",
   "execution_count": 134,
   "metadata": {},
   "outputs": [
    {
     "name": "stdout",
     "output_type": "stream",
     "text": [
      "8.0\n"
     ]
    }
   ],
   "source": [
    "K = max([abs(item) for item in f4x] )\n",
    "print(K)"
   ]
  },
  {
   "cell_type": "markdown",
   "metadata": {},
   "source": [
    "### Estimate Error using the formula\n",
    "\n",
    "$$ \\left\\lvert E_S \\right\\rvert \\leq \\frac{K \\left( b - a \\right)^5}{180 n^4} $$"
   ]
  },
  {
   "cell_type": "code",
   "execution_count": 135,
   "metadata": {},
   "outputs": [
    {
     "name": "stdout",
     "output_type": "stream",
     "text": [
      "The integral is 3.141592653589792 with an error of 4.020833935117624e-06\n",
      "The true value of the integral is in [3.1415886327558566, 3.141596674423727]\n"
     ]
    }
   ],
   "source": [
    "ES = ( K * ( (b - a) ** 5 ) ) / (180 * (n ** 4) )\n",
    "print(f\"The integral is {S} with an error of {ES}\")\n",
    "print(f\"The true value of the integral is in [{S-ES}, {S+ES}]\")"
   ]
  },
  {
   "cell_type": "markdown",
   "metadata": {},
   "source": [
    "# Next up: create an object-oriented code\n",
    "Make a \"numerical integration\" object which can be given a function $f\\left( x \\right)$, a method ('Left','Right','Midpoint','Trapz','Simpson'), number of elements, and limits of integration. It applies the method and returns the result of numerical integration. This could be used to study effect of $n$ on results, and compare results among methods.\n",
    "\n",
    "## Other To-Do Items:\n",
    "- Figure out how to print lists of floats nicely\n",
    "- Figure out how to distribute to people without Python installed\n",
    "- Add 'data integration' for tables of data that didn't come from a known function\n",
    "- ~~Add error estimates from text book~~"
   ]
  },
  {
   "cell_type": "markdown",
   "metadata": {},
   "source": []
  }
 ],
 "metadata": {
  "kernelspec": {
   "display_name": "Python 3.9.12 ('base')",
   "language": "python",
   "name": "python3"
  },
  "language_info": {
   "codemirror_mode": {
    "name": "ipython",
    "version": 3
   },
   "file_extension": ".py",
   "mimetype": "text/x-python",
   "name": "python",
   "nbconvert_exporter": "python",
   "pygments_lexer": "ipython3",
   "version": "3.9.12"
  },
  "orig_nbformat": 4,
  "vscode": {
   "interpreter": {
    "hash": "def2a57c69faf55660b483696a2a1329b6e9b2295a4149c1b24714e5eb7c3a39"
   }
  }
 },
 "nbformat": 4,
 "nbformat_minor": 2
}
