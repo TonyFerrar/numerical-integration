{
 "cells": [
  {
   "cell_type": "markdown",
   "metadata": {},
   "source": [
    "# Simpson's Rule - Introduction\n",
    "\n",
    "This code calculates the definite integral of a function using numerical methods. It approximates the area under a curve using a user-supplied number of boxes. However, the top of each box is a parabola - enabling each box to more-closely approximate the curvature of the original function.\n",
    "\n",
    "## Simpson's Rule Divides the domain into increments:\n",
    "\n",
    "The domain is divided into equal-width increments using the following expressions:\n",
    "\n",
    "$$x_i = a + i \\times \\Delta x$$\n",
    "\n",
    "$$\\Delta x = \\frac{b-a}{n}$$\n",
    "\n",
    "Keep in mind that this formulation only works for even values of \"n.\"\n",
    "\n",
    "## Simpson's Rule Performs the integration:\n",
    "\n",
    "The following expression performs the numerical integration. Note the pattern followed by the coefficients (1, 4, 2, 4, 2, ..., 2, 4, 1).\n",
    "\n",
    "$$S_n = \\frac{\\Delta x}{3} \\left[ f\\left(x_0\\right) + 4f\\left(x_1\\right) +2f\\left(x_2\\right) +4f\\left(x_3\\right) + ... + 2f\\left(x_{n-2}\\right) + 4f\\left(x_{n-1}\\right) + f\\left(x_n\\right) \\right]$$"
   ]
  },
  {
   "cell_type": "markdown",
   "metadata": {},
   "source": [
    "## Error Bound for Simpson's Rule\n",
    "Suppose that $\\left\\lvert f^{\\left(4 \\right)}\\left(x \\right) \\right\\rvert \\leq K$ for $a \\leq x \\leq b$. If $E_S$ is the error involved in using Simpson's Rule, then\n",
    "\n",
    "$$ \\left\\lvert E_S \\right\\rvert \\leq \\frac{K \\left( b - a \\right)^5}{180 n^4} $$\n",
    "\n",
    "Don't worry, the only thing this code needs you to do is enter the fourth derivative of your function."
   ]
  },
  {
   "cell_type": "markdown",
   "metadata": {},
   "source": [
    "# Part 1: Problem Setup"
   ]
  },
  {
   "cell_type": "markdown",
   "metadata": {},
   "source": [
    "## Import Python Packages\n",
    "\n",
    "Typically, it is best practice to import the various packages you'll be using at the top of your code."
   ]
  },
  {
   "cell_type": "code",
   "execution_count": 149,
   "metadata": {},
   "outputs": [
    {
     "name": "stdout",
     "output_type": "stream",
     "text": [
      "Populating the interactive namespace from numpy and matplotlib\n"
     ]
    }
   ],
   "source": [
    "import math\n",
    "%pylab inline"
   ]
  },
  {
   "cell_type": "markdown",
   "metadata": {},
   "source": [
    "## Parameters\n",
    "(the problem-specific information)"
   ]
  },
  {
   "cell_type": "markdown",
   "metadata": {},
   "source": [
    "### The Function\n",
    "\n",
    "We'll make use of the \"eval\" command to allow the user to enter the equation as a string, which Python can then evaluate as a mathematical expression.\n",
    "\n",
    "- *Keep in mind that the function must be entered using proper Python math syntax.*\n",
    "- you must use \"xi\" as the variable to represent \"x,\" the independent variable in your function.\n",
    "\n",
    "For example, if you're trying to integrate the function \n",
    "$$f\\left( x\\right) = x^2 - 3x + 7$$\n",
    "\n",
    "You should enter \"xi ** 2 - 3 * xi + 7\"\n",
    "\n",
    "#### Enter the function in the cell below, inside the quotes:"
   ]
  },
  {
   "cell_type": "code",
   "execution_count": 150,
   "metadata": {},
   "outputs": [],
   "source": [
    "func = \"(math.cos(xi))\""
   ]
  },
  {
   "cell_type": "markdown",
   "metadata": {},
   "source": [
    "#### Here's a test value of your function:\n",
    "\n",
    "(select a value for xi that is in the domain of your function)"
   ]
  },
  {
   "cell_type": "code",
   "execution_count": 151,
   "metadata": {},
   "outputs": [
    {
     "name": "stdout",
     "output_type": "stream",
     "text": [
      "0.8090169943749475\n"
     ]
    }
   ],
   "source": [
    "xi = 0.6283185307179586\n",
    "test_value = eval(func)\n",
    "print(test_value)"
   ]
  },
  {
   "cell_type": "markdown",
   "metadata": {},
   "source": [
    "### The Fourth Derivative\n",
    "\n",
    "Estimating the error of the numerical integration requires the fourth derivative of the function. We'll make use of the \"eval\" command to allow the user to enter the equation as a string, which Python can then evaluate as a mathematical expression.\n",
    "\n",
    "- *Keep in mind that the function must be entered using proper Python math syntax.*\n",
    "- you must use \"xi\" as the variable to represent \"x,\" the independent variable in your function.\n",
    "- if you don't want an error estimate, enter \"0\"\n",
    "- if the fourth derivative is zero, enter \"xi * 0\"."
   ]
  },
  {
   "cell_type": "code",
   "execution_count": 152,
   "metadata": {},
   "outputs": [],
   "source": [
    "f4 = \"8 * math.cos(2*xi)\""
   ]
  },
  {
   "cell_type": "markdown",
   "metadata": {},
   "source": [
    "### The Limits of Integration\n",
    "\n",
    "*The variables are named according to:*\n",
    "\n",
    "$$ \\int_a^b f \\left(x \\right) \\,dx $$\n",
    "\n",
    "#### Enter the limits of integration below:"
   ]
  },
  {
   "cell_type": "code",
   "execution_count": 153,
   "metadata": {},
   "outputs": [],
   "source": [
    "# Lower Limit\n",
    "a = 0\n",
    "# Upper Limit\n",
    "b = 2*math.pi"
   ]
  },
  {
   "cell_type": "markdown",
   "metadata": {},
   "source": [
    "### Number of Increments\n",
    "\n",
    "Numerical integration relies on dividing the domain into increments. Typically, the more increments the greater the accuracy of the result. However, adding increments increases the computational cost of the method - we must balance speed and accuracy to achieve the result we're looking for.\n",
    "\n",
    "#### Enter the number of increments below:"
   ]
  },
  {
   "cell_type": "code",
   "execution_count": 154,
   "metadata": {},
   "outputs": [],
   "source": [
    "# Number of Increments\n",
    "n = 12"
   ]
  },
  {
   "cell_type": "markdown",
   "metadata": {},
   "source": [
    "## Problem Summary:"
   ]
  },
  {
   "cell_type": "code",
   "execution_count": 155,
   "metadata": {},
   "outputs": [
    {
     "name": "stdout",
     "output_type": "stream",
     "text": [
      "Let's take the integral of (math.cos(xi)) from 0 to 6.283185307179586 using 12 increments!\n"
     ]
    }
   ],
   "source": [
    "print(f\"Let's take the integral of {func} from {a} to {b} using {n} increments!\")"
   ]
  },
  {
   "cell_type": "markdown",
   "metadata": {},
   "source": [
    "# Part 2: Compute Integral\n",
    "\n",
    "## Initilization\n",
    "The first part of calculating a solution is populating the various variables we'll need. This involves some calculations, and also creating empty lists of proper size to hold the invidual values.\n",
    "\n",
    " - 'deltaX' is a single-valued float that we need to calculate\n",
    " - 'x' is a list of all $x$ values we'll evaluate the function at, determined using $a + i \\Delta x$\n",
    " - 'ci' is the coefficient list - Simpson's Rule uses coefficients to weight the value of each point at which the function is evaluated following the pattern: $\\left(1, 4, 2, 4, ... 2, 4, 1 \\right)$\n",
    " - 'fx' is a list of $0$'s which will hold the function output at each value of $x$\n",
    "\n",
    "### Calculate $\\Delta x$"
   ]
  },
  {
   "cell_type": "code",
   "execution_count": 156,
   "metadata": {},
   "outputs": [
    {
     "name": "stdout",
     "output_type": "stream",
     "text": [
      "deltaX is 0.5235987755982988\n"
     ]
    }
   ],
   "source": [
    "deltaX = (b-a)/n\n",
    "print(f\"deltaX is {deltaX}\")"
   ]
  },
  {
   "cell_type": "markdown",
   "metadata": {},
   "source": [
    "### Initialize $x$ using 'range' and 'list comprehensions'\n",
    "\n",
    " - First, we'll use \"range\" to create a list of integers from $0$ to $n+1$. These are the $i$ values.\n",
    " - Then we multiply the $i$ values by $\\Delta x$.\n",
    "     - We can do this in a single line using a 'List Comprehension'\n",
    "     - It is like a 'for' loop in a single line:\n",
    "         - [deltaX * item for item in range(n+1)] takes each item in the 'range' and multiplies it by 'deltaX'\n",
    "     - Now we have a list filled with $i \\times \\Delta x$.\n",
    " - Lastly, we add $a$ to each item, because we want to start at the lower limit of integration\n",
    "     - Now we have a list filled with each value of $a + i \\times \\Delta x$."
   ]
  },
  {
   "cell_type": "code",
   "execution_count": 157,
   "metadata": {},
   "outputs": [
    {
     "name": "stdout",
     "output_type": "stream",
     "text": [
      "The function will be evaluated at x= \n",
      "0.0\n",
      "0.5235987755982988\n",
      "1.0471975511965976\n",
      "1.5707963267948966\n",
      "2.0943951023931953\n",
      "2.617993877991494\n",
      "3.141592653589793\n",
      "3.665191429188092\n",
      "4.1887902047863905\n",
      "4.71238898038469\n",
      "5.235987755982988\n",
      "5.759586531581287\n",
      "6.283185307179586\n"
     ]
    }
   ],
   "source": [
    "x = [a + deltaX * item for item in range(n+1)]\n",
    "print(\"The function will be evaluated at x= \")\n",
    "print(*x, sep = \"\\n\")"
   ]
  },
  {
   "cell_type": "markdown",
   "metadata": {},
   "source": [
    "### Initialize the Coefficient List using 'Slicing'\n",
    "This numerical integration method uses coefficients to give weight to the values. Ultimately this is part of what makes the method use parabolas instead of straight lines to approximate the top of each box.\n",
    "\n",
    "$$c_i = \\left(1,4,2,4,2,...,2,4,1\\right)$$\n",
    "\n",
    "Build the list by combining 3 lists:\n",
    "- [1] + [middle] + [4,1]\n",
    "- [1] is the first element\n",
    "- [middle] can be built using list multiplication:\n",
    "    - [4,2] * 3 = [4,2,4,2,4,2]\n",
    "    - We need the number of elements in the middle of the list\n",
    "    - Remember the true number of elements in the list is n + 1.\n",
    "        - If n = 12, there are 13 elements\n",
    "    - round((n-2)/2) takes the number of elements in the middle of the list and divides by 2. This is how many [4,2] pairs we need.\n",
    "        - If n = 12, (n-2)/2 = (12 - 2)/2 = 5.\n",
    "        - Round is there to cast the output of division as an integer.\n",
    "    - [middle] = [4,2] * round((n-2)/2)\n",
    "- [4, 1] at the end adds the last 2 elements\n",
    "\n"
   ]
  },
  {
   "cell_type": "code",
   "execution_count": 158,
   "metadata": {},
   "outputs": [
    {
     "name": "stdout",
     "output_type": "stream",
     "text": [
      "ci looks like:\n",
      "1\n",
      "4\n",
      "2\n",
      "4\n",
      "2\n",
      "4\n",
      "2\n",
      "4\n",
      "2\n",
      "4\n",
      "2\n",
      "4\n",
      "1\n"
     ]
    }
   ],
   "source": [
    "ci = [1] + [4,2] * round((n-2)/2) + [4,1]\n",
    "print(\"ci looks like:\")\n",
    "print(*ci, sep = \"\\n\")"
   ]
  },
  {
   "cell_type": "markdown",
   "metadata": {},
   "source": [
    "### Initialize $f\\left( x_i \\right)$ as a list of $0$'s\n",
    "We need to initialize a list to store function output at each value of $x$ so we can loop through and compute values later."
   ]
  },
  {
   "cell_type": "code",
   "execution_count": 159,
   "metadata": {},
   "outputs": [
    {
     "name": "stdout",
     "output_type": "stream",
     "text": [
      "fx looks like:\n",
      "0\n",
      "0\n",
      "0\n",
      "0\n",
      "0\n",
      "0\n",
      "0\n",
      "0\n",
      "0\n",
      "0\n",
      "0\n",
      "0\n",
      "0\n"
     ]
    }
   ],
   "source": [
    "fx = [0] * (n+1)\n",
    "print(\"fx looks like:\")\n",
    "print(*fx, sep = \"\\n\")"
   ]
  },
  {
   "cell_type": "markdown",
   "metadata": {},
   "source": [
    "## Integration\n",
    "Now that the variables are initialized, we can evaluate the integral!\n",
    "\n",
    "### Evaluate $f\\left( x_i \\right)$ using 'List Comprehension'\n",
    "The first step of evaluating the integral is to evaluate the function at each value of $x$."
   ]
  },
  {
   "cell_type": "code",
   "execution_count": 160,
   "metadata": {},
   "outputs": [
    {
     "name": "stdout",
     "output_type": "stream",
     "text": [
      "fx looks like:\n",
      "1.0\n",
      "0.8660254037844387\n",
      "0.5000000000000001\n",
      "6.123233995736766e-17\n",
      "-0.4999999999999998\n",
      "-0.8660254037844385\n",
      "-1.0\n",
      "-0.8660254037844388\n",
      "-0.5000000000000004\n",
      "-1.8369701987210297e-16\n",
      "0.4999999999999993\n",
      "0.8660254037844384\n",
      "1.0\n"
     ]
    }
   ],
   "source": [
    "fx = [eval(func) for xi in x]\n",
    "print(\"fx looks like:\")\n",
    "print(*fx, sep = \"\\n\")"
   ]
  },
  {
   "cell_type": "markdown",
   "metadata": {},
   "source": [
    "#### Here's a plot of your function:"
   ]
  },
  {
   "cell_type": "code",
   "execution_count": 161,
   "metadata": {},
   "outputs": [
    {
     "data": {
      "text/plain": [
       "Text(0, 0.5, 'f(x)')"
      ]
     },
     "execution_count": 161,
     "metadata": {},
     "output_type": "execute_result"
    },
    {
     "data": {
      "image/png": "[encoded data removed]",
      "text/plain": [
       "<Figure size 640x480 with 1 Axes>"
      ]
     },
     "metadata": {},
     "output_type": "display_data"
    }
   ],
   "source": [
    "plt.xkcd()\n",
    "plt.plot(x,fx,'-o')\n",
    "plt.title(func)\n",
    "plt.xlabel(\"x\")\n",
    "plt.ylabel(\"f(x)\")"
   ]
  },
  {
   "cell_type": "markdown",
   "metadata": {},
   "source": [
    "### Multiply by the coefficients for Simpson's Rule using 'List Comprehension'\n",
    "Next, we multiply each of the values of $f\\left( x \\right)$ by the appropriate coefficient from Simpson's Rule"
   ]
  },
  {
   "cell_type": "code",
   "execution_count": 162,
   "metadata": {},
   "outputs": [
    {
     "name": "stdout",
     "output_type": "stream",
     "text": [
      "Si looks like:\n",
      "1.0\n",
      "3.464101615137755\n",
      "1.0000000000000002\n",
      "2.4492935982947064e-16\n",
      "-0.9999999999999996\n",
      "-3.464101615137754\n",
      "-2.0\n",
      "-3.4641016151377553\n",
      "-1.0000000000000009\n",
      "-7.347880794884119e-16\n",
      "0.9999999999999986\n",
      "3.4641016151377535\n",
      "1.0\n"
     ]
    }
   ],
   "source": [
    "Si = [ci[i] * fx[i] for i in range(len(fx))]\n",
    "print(\"Si looks like:\")\n",
    "print(*Si, sep = \"\\n\")"
   ]
  },
  {
   "cell_type": "markdown",
   "metadata": {},
   "source": [
    "### Add up the individual values and multiply by $\\frac{\\Delta x}{3}$ using the 'sum' function\n",
    "\n",
    "$$S_n = \\frac{\\Delta x}{3} \\left[ f\\left(x_0\\right) + 4f\\left(x_1\\right) +2f\\left(x_2\\right) +4f\\left(x_3\\right) + ... + 2f\\left(x_{n-2}\\right) + 4f\\left(x_{n-1}\\right) + f\\left(x_n\\right) \\right]$$"
   ]
  },
  {
   "cell_type": "code",
   "execution_count": 163,
   "metadata": {},
   "outputs": [
    {
     "name": "stdout",
     "output_type": "stream",
     "text": [
      "The integral of (math.cos(xi)) from 0 to 6.283185307179586 is -6.200655107570901e-16\n"
     ]
    }
   ],
   "source": [
    "S = sum(Si)*(deltaX/3)\n",
    "print(f\"The integral of {func} from {a} to {b} is {S}\")"
   ]
  },
  {
   "cell_type": "markdown",
   "metadata": {},
   "source": [
    "## Error Estimate\n",
    "Now that we've evaluated the integral, we can estimate the accuracy of our estimate.\n",
    "\n",
    "### Evaluate $f^{\\left( 4 \\right)}\\left( x_i \\right)$ using 'List Comprehension'\n",
    "The first step of estimating the error is to evaluate the fourth derivative at each value of $x$."
   ]
  },
  {
   "cell_type": "code",
   "execution_count": 164,
   "metadata": {},
   "outputs": [
    {
     "name": "stdout",
     "output_type": "stream",
     "text": [
      "Let's evaluate 8 * math.cos(2*xi) at each value of x.\n",
      "f4x looks like:\n",
      "8.0\n",
      "4.000000000000001\n",
      "-3.9999999999999982\n",
      "-8.0\n",
      "-4.0000000000000036\n",
      "3.9999999999999942\n",
      "8.0\n",
      "4.000000000000004\n",
      "-3.9999999999999933\n",
      "-8.0\n",
      "-4.0000000000000115\n",
      "3.999999999999993\n",
      "8.0\n"
     ]
    }
   ],
   "source": [
    "print(f\"Let's evaluate {f4} at each value of x.\")\n",
    "f4x = [eval(f4) for xi in x]\n",
    "print(\"f4x looks like:\")\n",
    "print(*f4x, sep = \"\\n\")"
   ]
  },
  {
   "cell_type": "markdown",
   "metadata": {},
   "source": [
    "### Find $K$ the maximum absolute value of $f^{\\left( 4 \\right)}\\left( x_i \\right)$\n",
    "\n",
    "We need  $\\left\\lvert f^{\\left(4 \\right)}\\left(x \\right) \\right\\rvert \\leq K$ for $a \\leq x \\leq b$\n",
    "\n",
    "- List comprehension applies abs() to all items in f4x\n",
    "- Max returns the largest value\n",
    "- The largest value is 'K' in the error estimate formula"
   ]
  },
  {
   "cell_type": "code",
   "execution_count": 165,
   "metadata": {},
   "outputs": [
    {
     "name": "stdout",
     "output_type": "stream",
     "text": [
      "K is 8.0\n"
     ]
    }
   ],
   "source": [
    "K = max([abs(item) for item in f4x] )\n",
    "print(f\"K is {K}\")"
   ]
  },
  {
   "cell_type": "markdown",
   "metadata": {},
   "source": [
    "### Estimate Error using the formula\n",
    "\n",
    "$$ \\left\\lvert E_S \\right\\rvert \\leq \\frac{K \\left( b - a \\right)^5}{180 n^4} $$"
   ]
  },
  {
   "cell_type": "code",
   "execution_count": 166,
   "metadata": {},
   "outputs": [
    {
     "name": "stdout",
     "output_type": "stream",
     "text": [
      "The integral is -6.200655107570901e-16 with an error of 0.02098900444343494\n",
      "The true value of the integral is in [-0.02098900444343556, 0.02098900444343432]\n"
     ]
    }
   ],
   "source": [
    "ES = ( K * ( (b - a) ** 5 ) ) / (180 * (n ** 4) )\n",
    "print(f\"The integral is {S} with an error of {ES}\")\n",
    "print(f\"The true value of the integral is in [{S-ES}, {S+ES}]\")"
   ]
  }
 ],
 "metadata": {
  "kernelspec": {
   "display_name": "Python 3.9.12 ('base')",
   "language": "python",
   "name": "python3"
  },
  "language_info": {
   "codemirror_mode": {
    "name": "ipython",
    "version": 3
   },
   "file_extension": ".py",
   "mimetype": "text/x-python",
   "name": "python",
   "nbconvert_exporter": "python",
   "pygments_lexer": "ipython3",
   "version": "3.9.12"
  },
  "orig_nbformat": 4,
  "vscode": {
   "interpreter": {
    "hash": "def2a57c69faf55660b483696a2a1329b6e9b2295a4149c1b24714e5eb7c3a39"
   }
  }
 },
 "nbformat": 4,
 "nbformat_minor": 2
}
